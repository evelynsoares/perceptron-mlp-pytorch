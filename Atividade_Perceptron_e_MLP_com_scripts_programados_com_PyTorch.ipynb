{
  "nbformat": 4,
  "nbformat_minor": 0,
  "metadata": {
    "colab": {
      "provenance": [],
      "include_colab_link": true
    },
    "kernelspec": {
      "name": "python3",
      "display_name": "Python 3"
    },
    "language_info": {
      "name": "python"
    }
  },
  "cells": [
    {
      "cell_type": "markdown",
      "metadata": {
        "id": "view-in-github",
        "colab_type": "text"
      },
      "source": [
        "<a href=\"https://colab.research.google.com/github/evelynsoares/perceptron-mlp-pytorch/blob/main/Atividade_Perceptron_e_MLP_com_scripts_programados_com_PyTorch.ipynb\" target=\"_parent\"><img src=\"https://colab.research.google.com/assets/colab-badge.svg\" alt=\"Open In Colab\"/></a>"
      ]
    },
    {
      "cell_type": "markdown",
      "source": [
        "# **Atividade - Perceptron e MLP com scripts programados com PyTorch**\n",
        "\n",
        "**Observação:** Os trabalhos serão avaliados apenas se implementados por PyTorch.\n",
        "\n",
        "*   **Nome**:\n",
        "*   **Matrícula**:\n",
        "\n",
        "---"
      ],
      "metadata": {
        "id": "vtymgbhx7z-J"
      }
    },
    {
      "cell_type": "markdown",
      "source": [
        "# **Diagnóstico de Diabetes com Redes Neurais**\n",
        "\n",
        "Nesta atividade, vamos trabalhar com um problema aplicado de **classificação binária**: prever se uma pessoa possui ou não diabetes com base em um conjunto de variáveis clínicas.\n",
        "\n",
        "[Pima Indians Diabetes Database](https://www.kaggle.com/datasets/uciml/pima-indians-diabetes-database)\n",
        "\n",
        "---\n",
        "\n",
        "## **Contexto**\n",
        "\n",
        "- O dataset utilizado é o **Pima Indians Diabetes Dataset**, coletado originalmente pelo Instituto Nacional de Diabetes e Doenças Digestivas e Renais dos Estados Unidos.\n",
        "- Ele contém registros de mulheres com pelo menos 21 anos de idade da população Pima, um grupo étnico nativo norte-americano com alta incidência de diabetes tipo 2.\n",
        "\n",
        "## **Objetivo**\n",
        "\n",
        "O objetivo é treinar uma MLP para prever a presença de diabetes a partir de atributos fisiológicos e laboratoriais.\n",
        "\n",
        "## **Variáveis de entrada**\n",
        "\n",
        "Cada observação contém os seguintes atributos:\n",
        "\n",
        "1. **Pregnancies**, number of times pregnant: Variável discreta.\n",
        "2. **Glucose**, plasma glucose concentration after 2 hours in an oral glucose tolerance test: Variável contínua.\n",
        "3. **BloodPressure**, diastolic blood pressure, in mm Hg: Variável contínua.\n",
        "4. **SkinThickness**, triceps skin fold thickness, in mm: Variável contínua.\n",
        "5. **Insulin**, 2-hour serum insulin, in μU/mL: Variável contínua.\n",
        "6. **BMI**, body mass index, weight in kg/(height in m)²: Variável contínua.\n",
        "7. **DiabetesPedigreeFunction**, family history function: Variável contínua.\n",
        "8. **Age**, in years: : Variável discreta.\n",
        "\n",
        "## **Variáveis de saída (Target)**\n",
        "\n",
        "- **Outcome = 1**: Diabetic\n",
        "- **Outcome = 0**: Non-diabetic\n"
      ],
      "metadata": {
        "id": "ZgU7nDVr8kfQ"
      }
    },
    {
      "cell_type": "markdown",
      "source": [
        "# **Exercício 1 - Preparação dos dados**\n",
        "\n",
        "1. Apresente um resumo estatístico básico e visualizações simples, como correlação entre variáveis e histogramas procurando inconsistências que podem afetar a construção do modelo.\n",
        "2. Faça a divisão dos dados:\n",
        "  - 70% para treino\n",
        "  - 15% para validação\n",
        "  - 15% para teste\n",
        "\n",
        "Use como exemplo a aula colab do dia 21/05/2025.\n",
        "```python\n",
        "import pandas as pd\n",
        "\n",
        "# URL do dataset\n",
        "url = \"https://raw.githubusercontent.com/pcbrom/perceptron-mlp-cnn/refs/heads/main/data/diabetes.csv\"\n",
        "\n",
        "# Carregar o dataset\n",
        "df = pd.read_csv(url)\n",
        "```\n",
        "\n"
      ],
      "metadata": {
        "id": "IJFL-lD674cx"
      }
    },
    {
      "cell_type": "code",
      "execution_count": null,
      "metadata": {
        "id": "uuLbl5eq7zSq"
      },
      "outputs": [],
      "source": []
    },
    {
      "cell_type": "markdown",
      "source": [
        "# **Exercício 2 - Construção MLP**\n",
        "\n",
        "1. Proponha uma arquiterura de MLP, defina os hiperparâmetros, otimizador, função de perda.\n",
        "2. Faça o treinamento da rede e apresente:\n",
        "  - Acurácia no conjunto de teste.\n",
        "  - Matriz de confusão.\n",
        "  - Relatório de classificação.\n",
        "\n",
        "Use como exemplo a aula colab do dia 21/05/2025.\n",
        "\n",
        "```python\n",
        "from sklearn.metrics import confusion_matrix, classification_report, accuracy_score\n",
        "import seaborn as sns\n",
        "# --- Acurácia\n",
        "acc_test = accuracy_score(y_true_test, y_pred_test)\n",
        "print(f\"Acurácia no conjunto de teste: {acc_test:.4f}\")\n",
        "\n",
        "# --- Matriz de confusão\n",
        "cm = confusion_matrix(y_true_test, y_pred_test)\n",
        "plt.figure(figsize=(4, 4))\n",
        "sns.heatmap(cm, annot=True, fmt='d', cmap='Blues', cbar=False)\n",
        "plt.title('Matriz de Confusão (Teste)')\n",
        "plt.xlabel('Classe Predita')\n",
        "plt.ylabel('Classe Real')\n",
        "plt.tight_layout()\n",
        "plt.show()\n",
        "\n",
        "# --- Relatório de classificação\n",
        "print(\"\\nRelatório de Classificação:\")\n",
        "print(classification_report(y_true_test, y_pred_test, digits=4, zero_division=1))\n",
        "```"
      ],
      "metadata": {
        "id": "tNqjC84X895B"
      }
    },
    {
      "cell_type": "code",
      "source": [],
      "metadata": {
        "id": "-cABrwkk-pvK"
      },
      "execution_count": null,
      "outputs": []
    },
    {
      "cell_type": "markdown",
      "source": [
        "# **Exercício 3 - Perguntas finais para discussão crítica**\n",
        "\n",
        "1. Como a arquitetura do MLP influenciou os resultados obtidos?\n",
        "2. A seleção de variáveis melhorou a generalização do modelo? Justifique com evidências.\n",
        "3. Houve sinais de overfitting durante o treinamento? Quais ajustes foram feitos para lidar com isso?\n",
        "4. Qual foi o impacto da escolha da função de ativação no desempenho final?\n",
        "5. O número de neurônios por camada afetou a taxa de convergência ou o erro final?\n",
        "6. A validação durante o treino ajudou a definir uma arquitetura mais estável? Explique.\n",
        "7. Qual foi a principal limitação do seu modelo mais simples em comparação com os mais complexos?\n",
        "8. Como os diferentes otimizadores utilizados impactaram a aprendizagem do MLP?\n",
        "9. Houve inconsistência entre o desempenho no conjunto de validação e no teste? Como interpretá-la?\n",
        "\n"
      ],
      "metadata": {
        "id": "NKTaC_rK-qG6"
      }
    },
    {
      "cell_type": "code",
      "source": [],
      "metadata": {
        "id": "K1OqtMOKAJ1Q"
      },
      "execution_count": null,
      "outputs": []
    }
  ]
}